{
  "nbformat": 4,
  "nbformat_minor": 0,
  "metadata": {
    "colab": {
      "provenance": []
    },
    "kernelspec": {
      "name": "python3",
      "display_name": "Python 3"
    },
    "language_info": {
      "name": "python"
    }
  },
  "cells": [
    {
      "cell_type": "code",
      "execution_count": 16,
      "metadata": {
        "colab": {
          "base_uri": "https://localhost:8080/"
        },
        "id": "1QcJ6XoUeHIj",
        "outputId": "7895ba25-d0da-4628-e943-bcadc568cb37"
      },
      "outputs": [
        {
          "output_type": "stream",
          "name": "stdout",
          "text": [
            "Collecting z3-solver\n",
            "  Downloading z3_solver-4.12.2.0-py2.py3-none-manylinux2014_x86_64.whl (55.7 MB)\n",
            "\u001b[2K     \u001b[90m━━━━━━━━━━━━━━━━━━━━━━━━━━━━━━━━━━━━━━━━\u001b[0m \u001b[32m55.7/55.7 MB\u001b[0m \u001b[31m7.2 MB/s\u001b[0m eta \u001b[36m0:00:00\u001b[0m\n",
            "\u001b[?25hInstalling collected packages: z3-solver\n",
            "Successfully installed z3-solver-4.12.2.0\n"
          ]
        }
      ],
      "source": [
        "!pip3 install z3-solver"
      ]
    },
    {
      "cell_type": "code",
      "source": [
        "from itertools import combinations\n",
        "from z3 import *"
      ],
      "metadata": {
        "id": "ofdo3MGUoLyr"
      },
      "execution_count": 17,
      "outputs": []
    },
    {
      "cell_type": "code",
      "source": [
        "# Encoding function\n",
        "def num_bit(n):\n",
        "  num_bit = 0\n",
        "  if n == 0:\n",
        "    return 0\n",
        "  while n > 0:\n",
        "    num_bit += 1\n",
        "    n = n // 2\n",
        "  return num_bit\n",
        "\n",
        "\n",
        "def encode(n, size):\n",
        "  if n == 0:\n",
        "    return \"0\"\n",
        "\n",
        "  binary_digits = []\n",
        "  i = 0\n",
        "  while i < size:\n",
        "    remainder = n % 2\n",
        "    binary_digits.append(str(remainder))\n",
        "    n //= 2\n",
        "    i = i + 1\n",
        "\n",
        "  binary_string = \"\".join(binary_digits)\n",
        "  return binary_string\n",
        "\n",
        "\n",
        "def bool_encode(num, size, name, s):\n",
        "  max_num = max(num)\n",
        "  binary_num_lenght = num_bit(max_num)\n",
        "  bool_num = [[Bool(f\"{name}_{n}_{b}\") for n in range(size)] for b in range(binary_num_lenght)]\n",
        "  for i in range(size):\n",
        "    binary_num = encode(size[i], binary_num_lenght)\n",
        "    for b in range(binary_num_lenght):\n",
        "      if binary_num[b] == 1:\n",
        "        s.add(bool_num[i, b])\n",
        "      else:\n",
        "        s.add(Not(bool_num[i, b]))\n",
        "  return bool_num, binary_num_lenght\n",
        "\n",
        "# Sum of encodins function\n",
        "\n",
        "def sum_enc(n, m):\n",
        "  carry = 0\n",
        "  result = []\n",
        "  i, j = len(n) - 1, len(m) - 1\n",
        "\n",
        "  while i >= 0 or j >= 0 or carry:\n",
        "    bit1 = int(n[i]) if i >= 0 else 0\n",
        "    bit2 = int(m[j]) if j >= 0 else 0\n",
        "    current_sum = bit1 + bit2 + carry\n",
        "\n",
        "    result.insert(0, str(current_sum % 2))\n",
        "    carry = current_sum // 2\n",
        "\n",
        "    i -= 1\n",
        "    j -= 1\n",
        "\n",
        "  return ''.join(result)\n",
        "\n",
        "def sum_bool(n, m, size):\n",
        "\n",
        "\n",
        "# Comparison of encodings function\n",
        "\n",
        "def binary_greater_or_equal(binary_str1, binary_str2):\n",
        "  # Pad the binary strings with zeros on the left to make them equal in length\n",
        "  max_length = max(len(binary_str1), len(binary_str2))\n",
        "  binary_str1 = binary_str1.zfill(max_length)\n",
        "  binary_str2 = binary_str2.zfill(max_length)\n",
        "\n",
        "  for i in range(max_length):\n",
        "    bit1 = int(binary_str1[i])\n",
        "    bit2 = int(binary_str2[i])\n",
        "\n",
        "    if bit1 > bit2:\n",
        "      return True\n",
        "    elif bit1 < bit2:\n",
        "      return False\n",
        "\n",
        "    # If all bits are equal, binary_str1 is equal to binary_str2\n",
        "  return True\n",
        "\n",
        "def binary_greater(binary_str1, binary_str2):\n",
        "  # Pad the binary strings with zeros on the left to make them equal in length\n",
        "  max_length = max(len(binary_str1), len(binary_str2))\n",
        "  binary_str1 = binary_str1.zfill(max_length)\n",
        "  binary_str2 = binary_str2.zfill(max_length)\n",
        "\n",
        "  for i in range(max_length):\n",
        "    bit1 = int(binary_str1[i])\n",
        "    bit2 = int(binary_str2[i])\n",
        "\n",
        "    if bit1 > bit2:\n",
        "      return True\n",
        "    elif bit1 < bit2:\n",
        "      return False\n",
        "\n",
        "  # If all bits are equal, binary_str1 is not greater than binary_str2\n",
        "  return False\n",
        "\n",
        "# Example usage:\n",
        "binary_str1 = \"1010\"\n",
        "binary_str2 = \"1001\"\n",
        "result = binary_greater(binary_str1, binary_str2)\n",
        "print(result)  # Output: Tru"
      ],
      "metadata": {
        "colab": {
          "base_uri": "https://localhost:8080/",
          "height": 130
        },
        "id": "le7P-MVtoEMv",
        "outputId": "62bb1365-8945-4dc0-c845-1122552be64e"
      },
      "execution_count": 18,
      "outputs": [
        {
          "output_type": "error",
          "ename": "SyntaxError",
          "evalue": "ignored",
          "traceback": [
            "\u001b[0;36m  File \u001b[0;32m\"<ipython-input-18-a2fdb5797d2e>\"\u001b[0;36m, line \u001b[0;32m37\u001b[0m\n\u001b[0;31m    else\u001b[0m\n\u001b[0m        ^\u001b[0m\n\u001b[0;31mSyntaxError\u001b[0m\u001b[0;31m:\u001b[0m expected ':'\n"
          ]
        }
      ]
    },
    {
      "cell_type": "code",
      "source": [],
      "metadata": {
        "colab": {
          "base_uri": "https://localhost:8080/",
          "height": 36
        },
        "id": "t9NeMLYFjFkD",
        "outputId": "eb9cd44b-f9f4-4a43-808e-792294c82495"
      },
      "execution_count": 14,
      "outputs": [
        {
          "output_type": "execute_result",
          "data": {
            "text/plain": [
              "'110100'"
            ],
            "application/vnd.google.colaboratory.intrinsic+json": {
              "type": "string"
            }
          },
          "metadata": {},
          "execution_count": 14
        }
      ]
    },
    {
      "cell_type": "code",
      "source": [
        "def at_least_one(bool_vars):\n",
        "    return Or(bool_vars)\n",
        "\n",
        "def at_most_one(bool_vars):\n",
        "    return [Not(And(pair[0], pair[1])) for pair in combinations(bool_vars, 2)]\n",
        "\n",
        "def exactly_one(bool_vars):\n",
        "    return at_most_one(bool_vars) + [at_least_one(bool_vars)]"
      ],
      "metadata": {
        "id": "ydeqtken8jEF"
      },
      "execution_count": null,
      "outputs": []
    },
    {
      "cell_type": "code",
      "source": [
        "instance1 = {\n",
        "        \"m\" : 2,\n",
        "        \"n\" : 6,\n",
        "        \"cap\" : [15, 10],\n",
        "        \"size\" : [3, 2, 6, 5, 4, 4],\n",
        "        \"D\" : [[0, 3, 4, 5, 6, 6, 2],\n",
        "                [3, 0, 1, 4, 5, 7, 3],\n",
        "                [4, 1, 0, 5, 6, 6, 4],\n",
        "                [4, 4, 5, 0, 3, 3, 2],\n",
        "                [6, 7, 8, 3, 0, 2, 4],\n",
        "                [6, 7, 8, 3, 2, 0, 4],\n",
        "                [2, 3, 4, 3, 4, 4, 0]]\n",
        "    }"
      ],
      "metadata": {
        "id": "yecx7768hhgl"
      },
      "execution_count": null,
      "outputs": []
    },
    {
      "cell_type": "code",
      "source": [
        "def courier_routing_sat(M, N, cap, size,  D, max_path, number_of_origin_stops, min_packs):\n",
        "    # Create the variables, x_i_j = 1 iff vertex i is colored with color j.\n",
        "    courier_route = [[[Bool(f\"P_{m}_{k}_{n}\") for m in range(1, M)] for k in range(1, max_path)] for n in range(1, N + 1)]\n",
        "\n",
        "    # Solver instance\n",
        "    s = Solver()\n",
        "\n",
        "    #Your code here\n",
        "\n",
        "    # essere inizio e fine in origine\n",
        "    start = And(courier_route[:,0,N])\n",
        "    end = And(courier_route[:,max_path-1,N])\n",
        "    s.add(And(start, end))\n",
        "    s.add(Not(courier_route[:,1:min_packs,N]))\n",
        "\n",
        "    # ogni corriere almeno un pacco\n",
        "    s.add(at_least_one(courier_route[:, : max_path-1, :]))\n",
        "\n",
        "    # ogni pacco deve essere consegnato, ongi zona va passata un volta sola\n",
        "    for i in range(N - 1)\n",
        "      s.add(exactly_one(courier_route[:, 1:max_path, i]))\n",
        "\n",
        "    # rimanere all'origine una volta che ci arrivi\n",
        "    for j in range(M):\n",
        "      for i in range(1,max_path-1):\n",
        "        not_origin = Not(courier_route[j, i, N])\n",
        "        origin = And(courier_route[j, i+1:max_path-1, N])\n",
        "        s.add(Or(not_origin, origin))\n",
        "\n",
        "    # controllare la max load\n",
        "    bool_size, binary_size_lenght = bool_encode(size, N, \"S\", s)\n",
        "    bool_cap, binary_cap_lenght = bool_encode(cap, M, \"C\", s)\n",
        "    bool_sum = [[Bool(f\"sum_{m}_{b}\") for m in range(M)] for b in range(binary_cap_lenght+1)]\n",
        "\n",
        "    for j in range(M):\n",
        "      sum[N]\n",
        "      for i in range(N):\n",
        "        has_pack = at_least_one(courier_route[j, : max_path-1, i])\n",
        "        if has_pack:\n",
        "          index.append(i)\n",
        "      for b in binary_cap_lenght\n",
        "        xor_expr = bool_size[index, b]\n",
        "        bool_sum[m,b] = xor(xor(xor_expr), resto)\n",
        "        rescto = and(xor_expr)\n",
        "    s.add(bool_sum <= bool_cap)\n",
        "\n",
        "    # minimizzare distanza di corriere massimo\n",
        "\n",
        "    #Your code here\n",
        "\n",
        "    if s.check() == sat:\n",
        "        return s.model()\n",
        "    else:\n",
        "        print(\"Failed to solve\")\n",
        "\n",
        "    return"
      ],
      "metadata": {
        "id": "vl4CJ-0Bk87u"
      },
      "execution_count": null,
      "outputs": []
    },
    {
      "cell_type": "code",
      "source": [],
      "metadata": {
        "id": "Jlm0kvOA229g"
      },
      "execution_count": null,
      "outputs": []
    }
  ]
}