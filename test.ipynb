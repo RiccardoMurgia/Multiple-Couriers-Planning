{
 "cells": [
  {
   "cell_type": "code",
   "execution_count": null,
   "metadata": {
    "collapsed": true,
    "is_executing": true,
    "ExecuteTime": {
     "start_time": "2023-07-27T08:14:52.437508007Z"
    }
   },
   "outputs": [],
   "source": [
    "from z3 import *\n",
    "\n",
    "# Define the variables\n",
    "x = Real('x')\n",
    "y = Real('y')\n",
    "\n",
    "# Define the objective function and constraints\n",
    "objective_function = x**2 + y**2\n",
    "constraints = [x >= 0, y >= 0, x + y <= 10]\n",
    "\n",
    "# Create an optimization context\n",
    "opt = Optimize()\n",
    "\n",
    "# Add the objective function and constraints to the context\n",
    "opt.minimize(objective_function)\n",
    "for constraint in constraints:\n",
    "    opt.add(constraint)\n",
    "\n",
    "# Attempt to find the optimal values\n",
    "if opt.check() == sat:\n",
    "    model = opt.model()\n",
    "    optimal_x = model[x].as_decimal(10)\n",
    "    optimal_y = model[y].as_decimal(10)\n",
    "    optimal_value = model[objective_function].as_decimal(10)\n",
    "    print(f\"Optimal x: {optimal_x}\")\n",
    "    print(f\"Optimal y: {optimal_y}\")\n",
    "    print(f\"Optimal value: {optimal_value}\")\n",
    "else:\n",
    "    print(\"No solution found.\")"
   ]
  }
 ],
 "metadata": {
  "kernelspec": {
   "display_name": "Python 3",
   "language": "python",
   "name": "python3"
  },
  "language_info": {
   "codemirror_mode": {
    "name": "ipython",
    "version": 2
   },
   "file_extension": ".py",
   "mimetype": "text/x-python",
   "name": "python",
   "nbconvert_exporter": "python",
   "pygments_lexer": "ipython2",
   "version": "2.7.6"
  }
 },
 "nbformat": 4,
 "nbformat_minor": 0
}
