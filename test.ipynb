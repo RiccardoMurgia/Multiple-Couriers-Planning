{
 "cells": [
  {
   "cell_type": "code",
   "execution_count": 10,
   "metadata": {
    "collapsed": true,
    "ExecuteTime": {
     "end_time": "2023-08-12T09:01:01.064280702Z",
     "start_time": "2023-08-12T09:01:01.057933143Z"
    }
   },
   "outputs": [
    {
     "name": "stdout",
     "output_type": "stream",
     "text": [
      "0 0\n",
      "1 0\n",
      "2 0\n",
      "3 0\n",
      "0 1\n",
      "1 1\n",
      "2 1\n",
      "3 1\n",
      "0 2\n",
      "1 2\n",
      "2 2\n",
      "3 2\n"
     ]
    },
    {
     "data": {
      "text/plain": "[[courier_0_goes_from_0,\n  courier_0_goes_from_1,\n  courier_0_goes_from_2,\n  courier_0_goes_from_3],\n [courier_1_goes_from_0,\n  courier_1_goes_from_1,\n  courier_1_goes_from_2,\n  courier_1_goes_from_3],\n [courier_2_goes_from_0,\n  courier_2_goes_from_1,\n  courier_2_goes_from_2,\n  courier_2_goes_from_3]]"
     },
     "execution_count": 10,
     "metadata": {},
     "output_type": "execute_result"
    }
   ],
   "source": [
    "import numpy as np\n",
    "from z3 import And, Or, Not, Implies, sat, Solver, Bool\n",
    "\n",
    "\n",
    "m = 3  # Numero di righe\n",
    "n = 4  # Numero di colonne\n",
    "\n",
    "courier_load = np.empty(shape=(m, n), dtype=object)\n",
    "\n",
    "indices = np.indices(courier_load.shape)\n",
    "\n",
    "for j, i in zip(indices[0].flatten(), indices[1].flatten()):\n",
    "    print(i,j)\n",
    "    courier_load[j, i ] = Bool(f\"courier_{j}_goes_from_{i}\")\n",
    "    \n",
    "    \n",
    "courier_load[:,:].tolist()"
   ]
  }
 ],
 "metadata": {
  "kernelspec": {
   "display_name": "Python 3",
   "language": "python",
   "name": "python3"
  },
  "language_info": {
   "codemirror_mode": {
    "name": "ipython",
    "version": 2
   },
   "file_extension": ".py",
   "mimetype": "text/x-python",
   "name": "python",
   "nbconvert_exporter": "python",
   "pygments_lexer": "ipython2",
   "version": "2.7.6"
  }
 },
 "nbformat": 4,
 "nbformat_minor": 0
}
